{
 "cells": [
  {
   "cell_type": "markdown",
   "id": "12f6ff07",
   "metadata": {
    "toc": true
   },
   "source": [
    "<h1>Содержание<span class=\"tocSkip\"></span></h1>\n",
    "<div class=\"toc\"><ul class=\"toc-item\"></ul></div>"
   ]
  },
  {
   "cell_type": "markdown",
   "id": "cc07f75a",
   "metadata": {},
   "source": [
    "# Парсер данных с wildberries"
   ]
  },
  {
   "cell_type": "markdown",
   "id": "0a3dbad2",
   "metadata": {},
   "source": [
    "По ссылке на каталог парсит данные с Вайлдберриз, фильтруя по ценовому диапазону. В результате получаем excel-файл. "
   ]
  },
  {
   "cell_type": "markdown",
   "id": "5deb1e47",
   "metadata": {},
   "source": [
    "***Импорт библиотек:***"
   ]
  },
  {
   "cell_type": "code",
   "execution_count": 2,
   "id": "8ebb91ce",
   "metadata": {},
   "outputs": [],
   "source": [
    "import requests\n",
    "import json\n",
    "import pandas as pd\n",
    "from tqdm import tqdm"
   ]
  },
  {
   "cell_type": "code",
   "execution_count": 9,
   "id": "c12be958",
   "metadata": {},
   "outputs": [
    {
     "name": "stdout",
     "output_type": "stream",
     "text": [
      "Данные сохранены в wb_catalogs_data_sample.json\n",
      "найдено совпадение: Куклы и аксессуары\n"
     ]
    },
    {
     "name": "stderr",
     "output_type": "stream",
     "text": [
      "100%|██████████| 100/100 [00:25<00:00,  3.99it/s]"
     ]
    },
    {
     "name": "stdout",
     "output_type": "stream",
     "text": [
      "Все сохранено в Куклы и аксессуары_from_500_to_100000.csv\n"
     ]
    },
    {
     "name": "stderr",
     "output_type": "stream",
     "text": [
      "\n"
     ]
    }
   ],
   "source": [
    "def get_catalogs_wb(target):\n",
    "    \"\"\"получение каталога вб\"\"\"\n",
    "    url = 'https://www.wildberries.ru/webapi/menu/main-menu-ru-ru.json'\n",
    "    headers = {'Accept': \"*/*\", 'User-Agent': \"Mozilla/5.0 (Windows NT 10.0; Win64; x64)\"}\n",
    "    response = requests.get(url, headers=headers).json()\n",
    "\n",
    "    with open('wb_catalogs_data.json', 'w', encoding='UTF-8') as file:\n",
    "        json.dump(response, file, indent=2, ensure_ascii=False)\n",
    "        print(f'Данные сохранены в wb_catalogs_data_sample.json')\n",
    "    data_list = []\n",
    "    for d in response:\n",
    "        try:\n",
    "            for child in d['childs']:\n",
    "                if target == child['url']:\n",
    "                    data_list.append({\n",
    "                        'category_name': child['name'],\n",
    "                        'category_url': child['url'],\n",
    "                        'shard': child['shard'],\n",
    "                        'query': child['query']})\n",
    "                else:\n",
    "                    try:\n",
    "                        if child['childs']:\n",
    "                            for sub_child in child['childs']:\n",
    "                                data_list.append({\n",
    "                                    'category_name': sub_child['name'],\n",
    "                                    'category_url': sub_child['url'],\n",
    "                                    'shard': sub_child['shard'],\n",
    "                                    'query': sub_child['query']})\n",
    "                    except:\n",
    "                        continue  \n",
    "                    \n",
    "        except:\n",
    "            continue\n",
    "\n",
    "    return data_list\n",
    "\n",
    "\n",
    "def search_category_in_catalog(target, catalog_list):\n",
    "    \"\"\"пишем проверку пользовательской ссылки на наличии в каталоге\"\"\"\n",
    "    try:\n",
    "        for catalog in catalog_list:\n",
    "            if catalog['category_url'] == target:\n",
    "                print(f'найдено совпадение: {catalog[\"category_name\"]}')\n",
    "                name_category = catalog['category_name']\n",
    "                shard = catalog['shard']\n",
    "                query = catalog['query']\n",
    "                return name_category, shard, query\n",
    "            else:\n",
    "                # print('нет совпадения')\n",
    "                pass\n",
    "    except:\n",
    "        print('Данный раздел не найден!')\n",
    "\n",
    "\n",
    "def get_data_from_json(json_file):\n",
    "    \"\"\"извлекаем из json интересующие нас данные\"\"\"\n",
    "    data_list = []\n",
    "    for data in json_file['data']['products']:\n",
    "        try:\n",
    "            price = int(data[\"priceU\"] / 100)\n",
    "        except:\n",
    "            price = 0\n",
    "        data_list.append({\n",
    "            'Наименование': data['name'],\n",
    "            'id': data['id'],\n",
    "            'Скидка': data['sale'],\n",
    "            'Цена': price,\n",
    "            'Цена со скидкой': int(data[\"salePriceU\"] / 100),\n",
    "            'Бренд': data['brand'],\n",
    "            'id бренда': int(data['brandId']),\n",
    "            'feedbacks': data['feedbacks'],\n",
    "            'rating': data['rating'],\n",
    "            'Ссылка': f'https://www.wildberries.ru/catalog/{data[\"id\"]}/detail.aspx?targetUrl=BP'\n",
    "        })\n",
    "    return data_list\n",
    "\n",
    "\n",
    "def get_content(shard, query, low_price=None, top_price=None):\n",
    "    # вставляем ценовые рамки для уменьшения выдачи, вилбериес отдает только 100 страниц\n",
    "    headers = {'Accept': \"*/*\", 'User-Agent': \"Mozilla/5.0 (Windows NT 10.0; Win64; x64)\"}\n",
    "    data_list = []\n",
    "    for page in tqdm(range(1, 101)):\n",
    "\n",
    "        # url = f'https://wbxcatalog-ru.wildberries.ru/{shard}' \\\n",
    "        #       f'/catalog?appType=1&curr=rub&dest=-1029256,-102269,-1278703,-1255563' \\\n",
    "        #       f'&{query}&lang=ru&locale=ru&sort=sale&page={page}' \\\n",
    "        #       f'&priceU={low_price * 100};{top_price * 100}'\n",
    "        url = f'https://catalog.wb.ru/catalog/{shard}/catalog?appType=1&curr=rub&dest=-1075831,-77677,-398551,12358499' \\\n",
    "              f'&locale=ru&page={page}&priceU={low_price * 100};{top_price * 100}' \\\n",
    "              f'&reg=0&regions=64,83,4,38,80,33,70,82,86,30,69,1,48,22,66,31,40&sort=popular&spp=0&{query}'\n",
    "        data = requests.get(url, headers=headers).json()\n",
    "        if len(get_data_from_json(data)) > 0:\n",
    "            data_list.extend(get_data_from_json(data))\n",
    "        else:\n",
    "            print(f'Сбор данных завершен.')\n",
    "            break\n",
    "    return data_list\n",
    "\n",
    "\n",
    "def save_excel(data, filename):\n",
    "    \"\"\"сохранение результата в excel файл\"\"\"\n",
    "    df = pd.DataFrame(data)\n",
    "    writer = pd.ExcelWriter(f'{filename}.xlsx')\n",
    "    df.to_excel(writer, 'data')\n",
    "    writer.save()\n",
    "    print(f'Все сохранено в {filename}.xlsx')\n",
    "    \n",
    "def save_csv(data, filename):\n",
    "    \"\"\"сохранение результата в csv файл\"\"\"\n",
    "    \n",
    "    df = pd.DataFrame(data)\n",
    "    df.to_csv(f'{filename}.csv')\n",
    "    print(f'Все сохранено в {filename}.csv')\n",
    "\n",
    "\n",
    "def parser(url, low_price, top_price, format):\n",
    "    # получаем список каталогов\n",
    "    target = url.split('https://www.wildberries.ru')[-1]\n",
    "    catalog_list = get_catalogs_wb(target)\n",
    "    try:\n",
    "        # поиск введенной категории в общем каталоге\n",
    "        name_category, shard, query = search_category_in_catalog(target, catalog_list=catalog_list)\n",
    "        # сбор данных в найденном каталоге\n",
    "        data_list = get_content(shard=shard, query=query, low_price=low_price, top_price=top_price)\n",
    "        # сохранение найденных данных\n",
    "        \n",
    "        if format == 'excel':\n",
    "            save_excel(data_list, f'{name_category}_from_{low_price}_to_{top_price}')\n",
    "        elif format == 'csv':\n",
    "            save_csv(data_list, f'{name_category}_from_{low_price}_to_{top_price}')\n",
    "            \n",
    "    except TypeError:\n",
    "        print('Ошибка! Возможно не верно указан раздел. Удалите все доп фильтры с ссылки')\n",
    "    except PermissionError:\n",
    "        print('Ошибка! Вы забыли закрыть созданный ранее excel файл. Закройте и повторите попытку')\n",
    "\n",
    "\n",
    "if __name__ == '__main__':\n",
    "    \"\"\"ссылку на каталог или подкаталог, указывать без фильтров (без ценовых, сортировки и тд.)\"\"\"\n",
    "    # url = input('Введите ссылку на категорию для сбора: ')\n",
    "    # low_price = int(input('Введите минимальную сумму товара: '))\n",
    "    # top_price = int(input('Введите максимульную сумму товара: '))\n",
    "\n",
    "    \"\"\"Собераем товар с раздела куклы в ценовой категории от 500 рублей, до 10тыс и сохраним в csv-файл\"\"\"\n",
    "    \n",
    "    url = 'https://www.wildberries.ru/catalog/igrushki/kukly-i-aksessuary'\n",
    "    \n",
    "    low_price = 500\n",
    "    top_price = 100000\n",
    "    format = 'csv'\n",
    "\n",
    "    parser(url, low_price, top_price, format)"
   ]
  },
  {
   "cell_type": "code",
   "execution_count": null,
   "id": "ba9c00e8",
   "metadata": {},
   "outputs": [],
   "source": []
  }
 ],
 "metadata": {
  "kernelspec": {
   "display_name": "Python 3 (ipykernel)",
   "language": "python",
   "name": "python3"
  },
  "language_info": {
   "codemirror_mode": {
    "name": "ipython",
    "version": 3
   },
   "file_extension": ".py",
   "mimetype": "text/x-python",
   "name": "python",
   "nbconvert_exporter": "python",
   "pygments_lexer": "ipython3",
   "version": "3.9.12"
  },
  "toc": {
   "base_numbering": 1,
   "nav_menu": {},
   "number_sections": true,
   "sideBar": true,
   "skip_h1_title": true,
   "title_cell": "Содержание",
   "title_sidebar": "Contents",
   "toc_cell": true,
   "toc_position": {},
   "toc_section_display": true,
   "toc_window_display": true
  }
 },
 "nbformat": 4,
 "nbformat_minor": 5
}
